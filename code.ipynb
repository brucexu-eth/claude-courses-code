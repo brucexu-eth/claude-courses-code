{
 "cells": [
  {
   "cell_type": "code",
   "execution_count": 1,
   "id": "410e06b2",
   "metadata": {},
   "outputs": [],
   "source": [
    "# %pip install anthropic python-dotenv"
   ]
  },
  {
   "cell_type": "code",
   "execution_count": 2,
   "id": "c19d116b",
   "metadata": {},
   "outputs": [
    {
     "data": {
      "text/plain": [
       "True"
      ]
     },
     "execution_count": 2,
     "metadata": {},
     "output_type": "execute_result"
    }
   ],
   "source": [
    "from dotenv import load_dotenv\n",
    "load_dotenv()"
   ]
  },
  {
   "cell_type": "code",
   "execution_count": 3,
   "id": "b6d3e87b",
   "metadata": {},
   "outputs": [],
   "source": [
    "from anthropic import Anthropic\n",
    "\n",
    "client = Anthropic()\n",
    "model = \"claude-sonnet-4-0\"\n"
   ]
  },
  {
   "cell_type": "code",
   "execution_count": 4,
   "id": "9d867912",
   "metadata": {},
   "outputs": [],
   "source": [
    "# message = client.messages.create(\n",
    "#   model=model,\n",
    "#   max_tokens=1000,\n",
    "#   messages=[\n",
    "#     {\n",
    "#       \"role\": \"user\",\n",
    "#       \"content\": \"What is quantum computing? Answer in one sentence\"\n",
    "#     }\n",
    "#   ]\n",
    "# )\n",
    "\n",
    "# print(message.content)"
   ]
  },
  {
   "cell_type": "code",
   "execution_count": 5,
   "id": "3ddb2d97",
   "metadata": {},
   "outputs": [],
   "source": [
    "def add_user_message(messages, text):\n",
    "  user_message = {\"role\": \"user\", \"content\": text}\n",
    "  messages.append(user_message)\n",
    "\n",
    "def add_assistant_message(messages, text):\n",
    "  assistant_message = {\"role\": \"assistant\", \"content\": text}\n",
    "  messages.append(assistant_message)\n",
    "\n",
    "def add_system_message(messages, text):\n",
    "  system_message = {\"role\": \"system\", \"content\": text}\n",
    "  messages.append(system_message)\n",
    "\n",
    "def chat(messages):\n",
    "    message = client.messages.create(\n",
    "      model=model,\n",
    "      max_tokens=1000,\n",
    "      messages=messages\n",
    "    )\n",
    "    return message.content[0].text"
   ]
  },
  {
   "cell_type": "code",
   "execution_count": 6,
   "id": "3a21bf4c",
   "metadata": {},
   "outputs": [],
   "source": [
    "# messages = []\n",
    "# # Add the initial user question\n",
    "# add_user_message(messages, \"Define quantum computing in one sentence\")\n",
    "\n",
    "# # Get Claude's response\n",
    "# answer = chat(messages)\n",
    "\n",
    "# # Add Claude's response to the conversation history\n",
    "# add_assistant_message(messages, answer)\n",
    "\n",
    "# # Add a follow-up question\n",
    "# add_user_message(messages, \"Write another sentence\")\n",
    "\n",
    "# # Get the follow-up response with full context\n",
    "# final_answer = chat(messages)"
   ]
  },
  {
   "cell_type": "code",
   "execution_count": 7,
   "id": "7a4f218d",
   "metadata": {},
   "outputs": [],
   "source": [
    "# print(final_answer)"
   ]
  },
  {
   "cell_type": "code",
   "execution_count": 8,
   "id": "aa4a3f3b",
   "metadata": {},
   "outputs": [],
   "source": [
    "# messages = []\n",
    "\n",
    "# while True:\n",
    "#   user_input = input(\"You: \")\n",
    "#   add_user_message(messages, user_input)\n",
    "#   answer = chat(messages)\n",
    "#   add_assistant_message(messages, answer)\n",
    "#   print(\"Claude: \", answer)"
   ]
  },
  {
   "cell_type": "code",
   "execution_count": 9,
   "id": "29ca2599",
   "metadata": {},
   "outputs": [],
   "source": [
    "def chat(messages, system=None):\n",
    "    params = {\n",
    "        \"model\": model,\n",
    "        \"max_tokens\": 1000,\n",
    "        \"messages\": messages,\n",
    "    }\n",
    "\n",
    "    if system:\n",
    "        params[\"system\"] = system\n",
    "\n",
    "    message = client.messages.create(**params)\n",
    "    return message.content[0].text"
   ]
  },
  {
   "cell_type": "code",
   "execution_count": 10,
   "id": "b2024ada",
   "metadata": {},
   "outputs": [],
   "source": [
    "# messages = [\n",
    "#   {\n",
    "#     \"role\": \"user\",\n",
    "#     \"content\": \"88 * 66 = ?\"\n",
    "#   }\n",
    "# ]\n",
    "# # Without system prompt\n",
    "# answer = chat(messages)\n",
    "# print(answer)\n",
    "\n",
    "# # With system prompt\n",
    "# system = \"\"\"\n",
    "# You are a patient math tutor.\n",
    "# Do not directly answer a student's questions.\n",
    "# Guide them to a solution step by step.\n",
    "# \"\"\"\n",
    "# answer = chat(messages, system=system)\n",
    "# print(answer)"
   ]
  },
  {
   "cell_type": "code",
   "execution_count": 26,
   "id": "981ad503",
   "metadata": {},
   "outputs": [],
   "source": [
    "def chat(messages, stop_sequences=[], system=None, temperature=1.0):\n",
    "    params = {\n",
    "        \"model\": model,\n",
    "        \"max_tokens\": 1000,\n",
    "        \"messages\": messages,\n",
    "        \"temperature\": temperature,\n",
    "        \"stop_sequences\": stop_sequences,\n",
    "    }\n",
    "\n",
    "    if system:\n",
    "        params[\"system\"] = system\n",
    "\n",
    "    message = client.messages.create(**params)\n",
    "    return message.content[0].text"
   ]
  },
  {
   "cell_type": "code",
   "execution_count": 12,
   "id": "dd8be300",
   "metadata": {},
   "outputs": [],
   "source": [
    "# messages = [\n",
    "#   {\n",
    "#     \"role\": \"user\",\n",
    "#     \"content\": \"Give me one movie recommendation\"\n",
    "#   }\n",
    "# ]\n",
    "# # Low temperature - more predictable\n",
    "# answer = chat(messages, temperature=0.0)\n",
    "# print(\"Low temperature: \", answer)\n",
    "# answer = chat(messages, temperature=0.0)\n",
    "# print(\"Low temperature2: \", answer)\n",
    "\n",
    "# # High temperature - more creative\n",
    "# answer = chat(messages, temperature=1.0)\n",
    "# print(\"High temperature: \", answer)\n",
    "# answer = chat(messages, temperature=1.0)\n",
    "# print(\"High temperature2: \", answer)"
   ]
  },
  {
   "cell_type": "code",
   "execution_count": 13,
   "id": "3adabda4",
   "metadata": {},
   "outputs": [
    {
     "name": "stdout",
     "output_type": "stream",
     "text": [
      "RawMessageStartEvent(message=Message(id='msg_01KekinwQhC2snkUGPyf3kQ4', content=[], model='claude-sonnet-4-20250514', role='assistant', stop_reason=None, stop_sequence=None, type='message', usage=Usage(cache_creation_input_tokens=0, cache_read_input_tokens=0, input_tokens=18, output_tokens=4, server_tool_use=None, service_tier='standard')), type='message_start')\n",
      "RawContentBlockStartEvent(content_block=TextBlock(citations=None, text='', type='text'), index=0, type='content_block_start')\n",
      "RawContentBlockDeltaEvent(delta=TextDelta(text='A fake database coul', type='text_delta'), index=0, type='content_block_delta')\n",
      "RawContentBlockDeltaEvent(delta=TextDelta(text='d be described as: \"A simulated or', type='text_delta'), index=0, type='content_block_delta')\n",
      "RawContentBlockDeltaEvent(delta=TextDelta(text=' mock data repository containing fabricated records an', type='text_delta'), index=0, type='content_block_delta')\n",
      "RawContentBlockDeltaEvent(delta=TextDelta(text='d information designed to mimic a real database structure', type='text_delta'), index=0, type='content_block_delta')\n",
      "RawContentBlockDeltaEvent(delta=TextDelta(text=' for testing, training, or demonstration', type='text_delta'), index=0, type='content_block_delta')\n",
      "RawContentBlockDeltaEvent(delta=TextDelta(text=' purposes without using actual sensitive data.\"', type='text_delta'), index=0, type='content_block_delta')\n",
      "RawContentBlockStopEvent(index=0, type='content_block_stop')\n",
      "RawMessageDeltaEvent(delta=Delta(stop_reason='end_turn', stop_sequence=None), type='message_delta', usage=MessageDeltaUsage(cache_creation_input_tokens=None, cache_read_input_tokens=None, input_tokens=None, output_tokens=47, server_tool_use=None))\n",
      "RawMessageStopEvent(type='message_stop')\n"
     ]
    }
   ],
   "source": [
    "messages = []\n",
    "add_user_message(messages, \"Write a 1 sentence description of a fake database\")\n",
    "\n",
    "stream = client.messages.create(\n",
    "    model=model,\n",
    "    max_tokens=1000,\n",
    "    messages=messages,\n",
    "    stream=True\n",
    ")\n",
    "\n",
    "for event in stream:\n",
    "    print(event)"
   ]
  },
  {
   "cell_type": "code",
   "execution_count": 14,
   "id": "30037d48",
   "metadata": {},
   "outputs": [
    {
     "name": "stdout",
     "output_type": "stream",
     "text": [
      "FakeDB is a lightweight in-memory database simulator that generates realistic test data and mimics SQL operations without requiring actual database infrastructure, designed for rapid prototyping and application testing."
     ]
    }
   ],
   "source": [
    "with client.messages.stream(\n",
    "    model=model,\n",
    "    max_tokens=1000,\n",
    "    messages=messages\n",
    ") as stream:\n",
    "    for text in stream.text_stream:\n",
    "        print(text, end=\"\")"
   ]
  },
  {
   "cell_type": "code",
   "execution_count": null,
   "id": "2678eb38",
   "metadata": {},
   "outputs": [
    {
     "name": "stdout",
     "output_type": "stream",
     "text": [
      "Here's a simple package.json file:\n",
      "\n",
      "```json\n",
      "{\n",
      "  \"name\": \"my-project\",\n",
      "  \"version\": \"1.0.0\",\n",
      "  \"description\": \"A simple Node.js project\",\n",
      "  \"main\": \"index.js\",\n",
      "  \"scripts\": {\n",
      "    \"start\": \"node index.js\",\n",
      "    \"test\": \"echo \\\"Error: no test specified\\\" && exit 1\"\n",
      "  },\n",
      "  \"keywords\": [],\n",
      "  \"author\": \"\",\n",
      "  \"license\": \"ISC\"\n",
      "}\n",
      "```\n",
      "\n",
      "This basic package.json includes:\n",
      "- **name**: Project name (must be lowercase, no spaces)\n",
      "- **version**: Current version following semantic versioning\n",
      "- **description**: Brief project description\n",
      "- **main**: Entry point file\n",
      "- **scripts**: Commands you can run with `npm run`\n",
      "- **keywords**: Array of keywords for npm search\n",
      "- **author**: Author information\n",
      "- **license**: License type\n",
      "\n",
      "You can customize any of these fields based on your specific project needs!\n",
      "\n",
      "{\n",
      "  \"name\": \"my-project\",\n",
      "  \"version\": \"1.0.0\",\n",
      "  \"description\": \"A simple Node.js project\",\n",
      "  \"main\": \"index.js\",\n",
      "  \"scripts\": {\n",
      "    \"start\": \"node index.js\",\n",
      "    \"test\": \"echo \\\"Error: no test specified\\\" && exit 1\"\n",
      "  },\n",
      "  \"keywords\": [],\n",
      "  \"author\": \"\",\n",
      "  \"license\": \"ISC\"\n",
      "}\n",
      "\n"
     ]
    }
   ],
   "source": [
    "output = chat([{\"role\": \"user\", \"content\": \"Generate a simple package json\"}])\n",
    "print(output)"
   ]
  },
  {
   "cell_type": "code",
   "execution_count": 29,
   "id": "e8a96bf7",
   "metadata": {},
   "outputs": [
    {
     "name": "stdout",
     "output_type": "stream",
     "text": [
      "\n",
      "{\n",
      "  \"name\": \"my-project\",\n",
      "  \"version\": \"1.0.0\",\n",
      "  \"description\": \"A simple Node.js project\",\n",
      "  \"main\": \"index.js\",\n",
      "  \"scripts\": {\n",
      "    \"start\": \"node index.js\",\n",
      "    \"test\": \"echo \\\"Error: no test specified\\\" && exit 1\"\n",
      "  },\n",
      "  \"keywords\": [],\n",
      "  \"author\": \"\",\n",
      "  \"license\": \"ISC\"\n",
      "}\n",
      "\n"
     ]
    }
   ],
   "source": [
    "output = chat([{\"role\": \"user\", \"content\": \"Generate a simple package json\"}, {\"role\": \"assistant\", \"content\": \"```json\"}], [\"```\"])\n",
    "print(output)\n"
   ]
  },
  {
   "cell_type": "code",
   "execution_count": 30,
   "id": "7aea745c",
   "metadata": {},
   "outputs": [],
   "source": [
    "import json\n",
    "clean_json = json.loads(output.strip())"
   ]
  },
  {
   "cell_type": "code",
   "execution_count": 32,
   "id": "3a8cfa49",
   "metadata": {},
   "outputs": [
    {
     "name": "stdout",
     "output_type": "stream",
     "text": [
      "{'name': 'my-project', 'version': '1.0.0', 'description': 'A simple Node.js project', 'main': 'index.js', 'scripts': {'start': 'node index.js', 'test': 'echo \"Error: no test specified\" && exit 1'}, 'keywords': [], 'author': '', 'license': 'ISC'}\n"
     ]
    }
   ],
   "source": [
    "print(clean_json)"
   ]
  }
 ],
 "metadata": {
  "kernelspec": {
   "display_name": "Python 3",
   "language": "python",
   "name": "python3"
  },
  "language_info": {
   "codemirror_mode": {
    "name": "ipython",
    "version": 3
   },
   "file_extension": ".py",
   "mimetype": "text/x-python",
   "name": "python",
   "nbconvert_exporter": "python",
   "pygments_lexer": "ipython3",
   "version": "3.11.11"
  }
 },
 "nbformat": 4,
 "nbformat_minor": 5
}
