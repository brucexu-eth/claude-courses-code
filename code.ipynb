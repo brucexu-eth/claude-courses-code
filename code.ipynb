{
 "cells": [
  {
   "cell_type": "code",
   "execution_count": null,
   "id": "410e06b2",
   "metadata": {},
   "outputs": [],
   "source": [
    "%pip install anthropic python-dotenv"
   ]
  },
  {
   "cell_type": "code",
   "execution_count": null,
   "id": "c19d116b",
   "metadata": {},
   "outputs": [],
   "source": [
    "from dotenv import load_dotenv\n",
    "load_dotenv()"
   ]
  },
  {
   "cell_type": "code",
   "execution_count": null,
   "id": "b6d3e87b",
   "metadata": {},
   "outputs": [],
   "source": [
    "from anthropic import Anthropic\n",
    "\n",
    "client = Anthropic()\n",
    "model = \"claude-sonnet-4-0\"\n"
   ]
  },
  {
   "cell_type": "code",
   "execution_count": 7,
   "id": "9d867912",
   "metadata": {},
   "outputs": [
    {
     "name": "stdout",
     "output_type": "stream",
     "text": [
      "[TextBlock(citations=None, text='Quantum computing is a revolutionary computing paradigm that uses quantum mechanical phenomena like superposition and entanglement to process information in ways that can potentially solve certain problems exponentially faster than classical computers.', type='text')]\n"
     ]
    }
   ],
   "source": [
    "message = client.messages.create(\n",
    "  model=model,\n",
    "  max_tokens=1000,\n",
    "  messages=[\n",
    "    {\n",
    "      \"role\": \"user\",\n",
    "      \"content\": \"What is quantum computing? Answer in one sentence\"\n",
    "    }\n",
    "  ]\n",
    ")\n",
    "\n",
    "print(message.content)"
   ]
  },
  {
   "cell_type": "code",
   "execution_count": 8,
   "id": "3ddb2d97",
   "metadata": {},
   "outputs": [],
   "source": [
    "def add_user_message(messages, text):\n",
    "  user_message = {\"role\": \"user\", \"content\": text}\n",
    "  messages.append(user_message)\n",
    "\n",
    "def add_assistant_message(messages, text):\n",
    "  assistant_message = {\"role\": \"assistant\", \"content\": text}\n",
    "  messages.append(assistant_message)\n",
    "\n",
    "def add_system_message(messages, text):\n",
    "  system_message = {\"role\": \"system\", \"content\": text}\n",
    "  messages.append(system_message)\n",
    "\n",
    "def chat(messages):\n",
    "    message = client.messages.create(\n",
    "      model=model,\n",
    "      max_tokens=1000,\n",
    "      messages=messages\n",
    "    )\n",
    "    return message.content[0].text"
   ]
  },
  {
   "cell_type": "code",
   "execution_count": 9,
   "id": "3a21bf4c",
   "metadata": {},
   "outputs": [],
   "source": [
    "messages = []\n",
    "# Add the initial user question\n",
    "add_user_message(messages, \"Define quantum computing in one sentence\")\n",
    "\n",
    "# Get Claude's response\n",
    "answer = chat(messages)\n",
    "\n",
    "# Add Claude's response to the conversation history\n",
    "add_assistant_message(messages, answer)\n",
    "\n",
    "# Add a follow-up question\n",
    "add_user_message(messages, \"Write another sentence\")\n",
    "\n",
    "# Get the follow-up response with full context\n",
    "final_answer = chat(messages)"
   ]
  },
  {
   "cell_type": "code",
   "execution_count": 10,
   "id": "7a4f218d",
   "metadata": {},
   "outputs": [
    {
     "name": "stdout",
     "output_type": "stream",
     "text": [
      "Quantum computers use quantum bits (qubits) that can exist in multiple states simultaneously, unlike classical bits that are limited to either 0 or 1, enabling them to perform many calculations in parallel.\n"
     ]
    }
   ],
   "source": [
    "print(final_answer)"
   ]
  },
  {
   "cell_type": "code",
   "execution_count": 11,
   "id": "aa4a3f3b",
   "metadata": {},
   "outputs": [
    {
     "name": "stdout",
     "output_type": "stream",
     "text": [
      "Claude:  1 + 1 = 2\n",
      "Claude:  2 + 2 = 4\n",
      "\n",
      "(The previous answer was 2, so 2 + 2 = 4)\n"
     ]
    },
    {
     "ename": "KeyboardInterrupt",
     "evalue": "Interrupted by user",
     "output_type": "error",
     "traceback": [
      "\u001b[31m---------------------------------------------------------------------------\u001b[39m",
      "\u001b[31mKeyboardInterrupt\u001b[39m                         Traceback (most recent call last)",
      "\u001b[36mCell\u001b[39m\u001b[36m \u001b[39m\u001b[32mIn[11]\u001b[39m\u001b[32m, line 4\u001b[39m\n\u001b[32m      1\u001b[39m messages = []\n\u001b[32m      3\u001b[39m \u001b[38;5;28;01mwhile\u001b[39;00m \u001b[38;5;28;01mTrue\u001b[39;00m:\n\u001b[32m----> \u001b[39m\u001b[32m4\u001b[39m   user_input = \u001b[38;5;28;43minput\u001b[39;49m\u001b[43m(\u001b[49m\u001b[33;43m\"\u001b[39;49m\u001b[33;43mYou: \u001b[39;49m\u001b[33;43m\"\u001b[39;49m\u001b[43m)\u001b[49m\n\u001b[32m      5\u001b[39m   add_user_message(messages, user_input)\n\u001b[32m      6\u001b[39m   answer = chat(messages)\n",
      "\u001b[36mFile \u001b[39m\u001b[32m~/Library/Python/3.11/lib/python/site-packages/ipykernel/kernelbase.py:1260\u001b[39m, in \u001b[36mKernel.raw_input\u001b[39m\u001b[34m(self, prompt)\u001b[39m\n\u001b[32m   1258\u001b[39m     msg = \u001b[33m\"\u001b[39m\u001b[33mraw_input was called, but this frontend does not support input requests.\u001b[39m\u001b[33m\"\u001b[39m\n\u001b[32m   1259\u001b[39m     \u001b[38;5;28;01mraise\u001b[39;00m StdinNotImplementedError(msg)\n\u001b[32m-> \u001b[39m\u001b[32m1260\u001b[39m \u001b[38;5;28;01mreturn\u001b[39;00m \u001b[38;5;28;43mself\u001b[39;49m\u001b[43m.\u001b[49m\u001b[43m_input_request\u001b[49m\u001b[43m(\u001b[49m\n\u001b[32m   1261\u001b[39m \u001b[43m    \u001b[49m\u001b[38;5;28;43mstr\u001b[39;49m\u001b[43m(\u001b[49m\u001b[43mprompt\u001b[49m\u001b[43m)\u001b[49m\u001b[43m,\u001b[49m\n\u001b[32m   1262\u001b[39m \u001b[43m    \u001b[49m\u001b[38;5;28;43mself\u001b[39;49m\u001b[43m.\u001b[49m\u001b[43m_parent_ident\u001b[49m\u001b[43m[\u001b[49m\u001b[33;43m\"\u001b[39;49m\u001b[33;43mshell\u001b[39;49m\u001b[33;43m\"\u001b[39;49m\u001b[43m]\u001b[49m\u001b[43m,\u001b[49m\n\u001b[32m   1263\u001b[39m \u001b[43m    \u001b[49m\u001b[38;5;28;43mself\u001b[39;49m\u001b[43m.\u001b[49m\u001b[43mget_parent\u001b[49m\u001b[43m(\u001b[49m\u001b[33;43m\"\u001b[39;49m\u001b[33;43mshell\u001b[39;49m\u001b[33;43m\"\u001b[39;49m\u001b[43m)\u001b[49m\u001b[43m,\u001b[49m\n\u001b[32m   1264\u001b[39m \u001b[43m    \u001b[49m\u001b[43mpassword\u001b[49m\u001b[43m=\u001b[49m\u001b[38;5;28;43;01mFalse\u001b[39;49;00m\u001b[43m,\u001b[49m\n\u001b[32m   1265\u001b[39m \u001b[43m\u001b[49m\u001b[43m)\u001b[49m\n",
      "\u001b[36mFile \u001b[39m\u001b[32m~/Library/Python/3.11/lib/python/site-packages/ipykernel/kernelbase.py:1305\u001b[39m, in \u001b[36mKernel._input_request\u001b[39m\u001b[34m(self, prompt, ident, parent, password)\u001b[39m\n\u001b[32m   1302\u001b[39m \u001b[38;5;28;01mexcept\u001b[39;00m \u001b[38;5;167;01mKeyboardInterrupt\u001b[39;00m:\n\u001b[32m   1303\u001b[39m     \u001b[38;5;66;03m# re-raise KeyboardInterrupt, to truncate traceback\u001b[39;00m\n\u001b[32m   1304\u001b[39m     msg = \u001b[33m\"\u001b[39m\u001b[33mInterrupted by user\u001b[39m\u001b[33m\"\u001b[39m\n\u001b[32m-> \u001b[39m\u001b[32m1305\u001b[39m     \u001b[38;5;28;01mraise\u001b[39;00m \u001b[38;5;167;01mKeyboardInterrupt\u001b[39;00m(msg) \u001b[38;5;28;01mfrom\u001b[39;00m\u001b[38;5;250m \u001b[39m\u001b[38;5;28;01mNone\u001b[39;00m\n\u001b[32m   1306\u001b[39m \u001b[38;5;28;01mexcept\u001b[39;00m \u001b[38;5;167;01mException\u001b[39;00m:\n\u001b[32m   1307\u001b[39m     \u001b[38;5;28mself\u001b[39m.log.warning(\u001b[33m\"\u001b[39m\u001b[33mInvalid Message:\u001b[39m\u001b[33m\"\u001b[39m, exc_info=\u001b[38;5;28;01mTrue\u001b[39;00m)\n",
      "\u001b[31mKeyboardInterrupt\u001b[39m: Interrupted by user"
     ]
    }
   ],
   "source": [
    "messages = []\n",
    "\n",
    "while True:\n",
    "  user_input = input(\"You: \")\n",
    "  add_user_message(messages, user_input)\n",
    "  answer = chat(messages)\n",
    "  add_assistant_message(messages, answer)\n",
    "  print(\"Claude: \", answer)"
   ]
  },
  {
   "cell_type": "code",
   "execution_count": null,
   "id": "29ca2599",
   "metadata": {},
   "outputs": [],
   "source": [
    "def chat(messages, system=None):\n",
    "    params = {\n",
    "        \"model\": model,\n",
    "        \"max_tokens\": 1000,\n",
    "        \"messages\": messages,\n",
    "    }\n",
    "\n",
    "    if system:\n",
    "        params[\"system\"] = system\n",
    "\n",
    "    message = client.messages.create(**params)\n",
    "    return message.content[0].text"
   ]
  },
  {
   "cell_type": "code",
   "execution_count": 18,
   "id": "b2024ada",
   "metadata": {},
   "outputs": [
    {
     "name": "stdout",
     "output_type": "stream",
     "text": [
      "88 × 66 = 5,808\n",
      "\n",
      "To break this down:\n",
      "88 × 66 = 88 × (60 + 6) = (88 × 60) + (88 × 6) = 5,280 + 528 = 5,808\n",
      "I'd be happy to help you work through this multiplication step by step!\n",
      "\n",
      "Let's start by breaking this down. When we multiply 88 × 66, there are several approaches we could use. \n",
      "\n",
      "What method would you like to try? We could:\n",
      "1. Use the standard multiplication algorithm (multiply digit by digit)\n",
      "2. Break it down using the distributive property\n",
      "3. Use a different strategy\n",
      "\n",
      "Which approach feels most comfortable to you, or would you like to explore one of these methods?\n"
     ]
    }
   ],
   "source": [
    "messages = [\n",
    "  {\n",
    "    \"role\": \"user\",\n",
    "    \"content\": \"88 * 66 = ?\"\n",
    "  }\n",
    "]\n",
    "# Without system prompt\n",
    "answer = chat(messages)\n",
    "print(answer)\n",
    "\n",
    "# With system prompt\n",
    "system = \"\"\"\n",
    "You are a patient math tutor.\n",
    "Do not directly answer a student's questions.\n",
    "Guide them to a solution step by step.\n",
    "\"\"\"\n",
    "answer = chat(messages, system=system)\n",
    "print(answer)"
   ]
  },
  {
   "cell_type": "code",
   "execution_count": 24,
   "id": "981ad503",
   "metadata": {},
   "outputs": [],
   "source": [
    "def chat(messages, system=None, temperature=1.0):\n",
    "    params = {\n",
    "        \"model\": model,\n",
    "        \"max_tokens\": 100,\n",
    "        \"messages\": messages,\n",
    "        \"temperature\": temperature\n",
    "    }\n",
    "\n",
    "    if system:\n",
    "        params[\"system\"] = system\n",
    "\n",
    "    message = client.messages.create(**params)\n",
    "    return message.content[0].text"
   ]
  },
  {
   "cell_type": "code",
   "execution_count": 26,
   "id": "dd8be300",
   "metadata": {},
   "outputs": [
    {
     "name": "stdout",
     "output_type": "stream",
     "text": [
      "Low temperature:  I'd recommend **Parasite** (2019) - it's a masterfully crafted thriller that seamlessly blends dark comedy, social commentary, and suspense. The film follows a poor family who infiltrates the lives of a wealthy household, leading to unexpected and gripping consequences. It won the Oscar for Best Picture and offers both entertainment and thought-provoking themes about class and society.\n",
      "Low temperature2:  I'd recommend **Parasite** (2019) - it's a masterfully crafted thriller that seamlessly blends dark comedy, social commentary, and suspense. The film follows a poor family who infiltrates the lives of a wealthy household, leading to unexpected and gripping consequences. It won the Oscar for Best Picture and offers both entertainment and thought-provoking themes about class and society.\n",
      "High temperature:  I'd recommend **Parasite** (2019) - it's a masterfully crafted thriller that seamlessly blends dark comedy, social commentary, and suspense. The film follows a poor family who infiltrates the lives of a wealthy household, leading to unexpected and gripping consequences. It's beautifully shot, brilliantly acted, and offers plenty to think about long after the credits roll.\n",
      "High temperature2:  I'd recommend **Knives Out** (2019) - it's a clever murder mystery with great humor, an all-star cast, and engaging twists that keep you guessing. It works well whether you love classic whodunits or are new to the genre, and it's just plain fun to watch.\n"
     ]
    }
   ],
   "source": [
    "messages = [\n",
    "  {\n",
    "    \"role\": \"user\",\n",
    "    \"content\": \"Give me one movie recommendation\"\n",
    "  }\n",
    "]\n",
    "# Low temperature - more predictable\n",
    "answer = chat(messages, temperature=0.0)\n",
    "print(\"Low temperature: \", answer)\n",
    "answer = chat(messages, temperature=0.0)\n",
    "print(\"Low temperature2: \", answer)\n",
    "\n",
    "# High temperature - more creative\n",
    "answer = chat(messages, temperature=1.0)\n",
    "print(\"High temperature: \", answer)\n",
    "answer = chat(messages, temperature=1.0)\n",
    "print(\"High temperature2: \", answer)"
   ]
  }
 ],
 "metadata": {
  "kernelspec": {
   "display_name": "Python 3",
   "language": "python",
   "name": "python3"
  },
  "language_info": {
   "codemirror_mode": {
    "name": "ipython",
    "version": 3
   },
   "file_extension": ".py",
   "mimetype": "text/x-python",
   "name": "python",
   "nbconvert_exporter": "python",
   "pygments_lexer": "ipython3",
   "version": "3.11.11"
  }
 },
 "nbformat": 4,
 "nbformat_minor": 5
}
