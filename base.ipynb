{
 "cells": [
  {
   "cell_type": "code",
   "execution_count": 1,
   "id": "c19d116b",
   "metadata": {},
   "outputs": [],
   "source": [
    "# %pip install anthropic python-dotenv\n",
    "\n",
    "from dotenv import load_dotenv\n",
    "load_dotenv()\n",
    "\n",
    "from anthropic import Anthropic\n",
    "\n",
    "client = Anthropic()\n",
    "model = \"claude-sonnet-4-0\"\n",
    "\n",
    "def add_user_message(messages, text):\n",
    "  user_message = {\"role\": \"user\", \"content\": text}\n",
    "  messages.append(user_message)\n",
    "\n",
    "def add_assistant_message(messages, text):\n",
    "  assistant_message = {\"role\": \"assistant\", \"content\": text}\n",
    "  messages.append(assistant_message)\n",
    "\n",
    "def add_system_message(messages, text):\n",
    "  system_message = {\"role\": \"system\", \"content\": text}\n",
    "  messages.append(system_message)\n",
    "\n",
    "\n",
    "def chat(messages, stop_sequences=[], system=None, temperature=1.0):\n",
    "    params = {\n",
    "        \"model\": model,\n",
    "        \"max_tokens\": 1000,\n",
    "        \"messages\": messages,\n",
    "        \"temperature\": temperature,\n",
    "        \"stop_sequences\": stop_sequences,\n",
    "    }\n",
    "\n",
    "    if system:\n",
    "        params[\"system\"] = system\n",
    "\n",
    "    message = client.messages.create(**params)\n",
    "    return message.content[0].text"
   ]
  },
  {
   "cell_type": "code",
   "execution_count": null,
   "id": "b6d3e87b",
   "metadata": {},
   "outputs": [
    {
     "name": "stdout",
     "output_type": "stream",
     "text": [
      "The \"GlobalMind\" database contains comprehensive psychological profiles, browsing histories, and predictive behavioral models for over 2.8 billion internet users, updated in real-time through undisclosed data collection partnerships.\n"
     ]
    }
   ],
   "source": [
    "messages = []\n",
    "add_user_message(messages, \"Write a 1 sentence description of a fake database\")\n",
    "print(chat(messages))"
   ]
  }
 ],
 "metadata": {
  "kernelspec": {
   "display_name": "Python 3",
   "language": "python",
   "name": "python3"
  },
  "language_info": {
   "codemirror_mode": {
    "name": "ipython",
    "version": 3
   },
   "file_extension": ".py",
   "mimetype": "text/x-python",
   "name": "python",
   "nbconvert_exporter": "python",
   "pygments_lexer": "ipython3",
   "version": "3.11.11"
  }
 },
 "nbformat": 4,
 "nbformat_minor": 5
}
